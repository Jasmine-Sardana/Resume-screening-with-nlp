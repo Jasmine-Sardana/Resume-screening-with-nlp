{
 "cells": [
  {
   "cell_type": "code",
   "execution_count": 1,
   "id": "14ab7665",
   "metadata": {},
   "outputs": [],
   "source": [
    "import PyPDF2\n",
    "import pdfplumber\n",
    "import textract\n",
    "import docx2txt\n",
    "import pandas as pd\n",
    "import matplotlib.pyplot as plt\n",
    "%matplotlib inline\n",
    "from sklearn.metrics.pairwise import cosine_similarity\n",
    "from sklearn.feature_extraction.text import CountVectorizer "
   ]
  },
  {
   "cell_type": "code",
   "execution_count": null,
   "id": "5305d109",
   "metadata": {},
   "outputs": [],
   "source": []
  },
  {
   "cell_type": "code",
   "execution_count": 2,
   "id": "eb1d8b52",
   "metadata": {},
   "outputs": [
    {
     "name": "stdout",
     "output_type": "stream",
     "text": [
      ".\n",
      "Aryan Singh\n",
      "Aryansingh564738@gmail.com 7011714773 in/aryan-singh-b22462267 github.com/AryanSinghhh\n",
      "SUMMARY\n",
      "Highly motivated and detail-oriented final-year B.Tech student in Computer Science and Engineering with a specialization in Data Science.\n",
      "Proficient in machine learning, and statistical analysis, data visualization with hands-on experience in Python. Seeking a challenging role in\n",
      "data science where I can apply my analytical and problem-solving skills to drive data-driven decision-making and contribute to innovative\n",
      "projects.\n",
      "“I know my data!”\n",
      "EDUCATION\n",
      "Bachelor of Technology In Computer Science Specialization in Data Science\n",
      "Gautam Buddha University • Greater Noida • 2025 • 8.0 CGPA\n",
      "12th\n",
      "Delhi Public School • Faridabad • 2021 • 7.2 CGPA\n",
      "EXPERIENCE\n",
      "Data Scientist\n",
      "Cognifyz Technologies REMOTE\n",
      "• Proficient in data exploration, preprocessing, and handling missing values.\n",
      "• Skilled in statistical analysis and visualizing distributions of numerical and categorical data.\n",
      "• Experienced in building predictive models (Linear Regression, Random Forest) and creating actionable features for insights.\n",
      "• Tools: Python, SQL, Tableau, Scikit-learn.\n",
      "•\n",
      "Data Scientist\n",
      "BCG ( GenAI Job Simulation) REMOTE\n",
      "• Completed a job simulation involving AI-powered financial chatbot development for BCG's GenAI Consulting team.\n",
      "• Gained experience in Python programming, including the use of libraries such as pandas for data manipulation.\n",
      "• Integrated and interpreted complex financial data from 10-K and 10-Q reports, employing rule-based logic to create a chatbot that provides\n",
      "user-friendly financial insights and analysis.\n",
      "Data Scientist\n",
      "British Airways (Job Simulation) REMOTE\n",
      "• Completed a simulation focussing on how data science is a critical component of British Airways success\n",
      "• Scraped and analysed customer review data to uncover findings\n",
      "• Built a predictive model to understand factors that influence buying behaviour and increased customer acquisition rate by 15% by\n",
      "implementing machine learning algorithms using Python libraries such as scikit-learn and Pandas to process large datasets.\n",
      "Data Analyst\n",
      "TATA (Job Simulation) REMOTE\n",
      "• Completed a simulation involving creating data visualizations for Tata Consultancy Services\n",
      "• Prepared questions for a meeting with client senior leadership\n",
      "• Created visuals for data analysis to help executives with effective decision making\n",
      "• Developed interactive dashboards using Tableau to synthesize complex datasets, enhancing executive decision-making processes with\n",
      "actionable insights and improving report generation speed by 30%.\n",
      "..\n",
      "PROJECTS\n",
      "Predictive Modeling for Real Estate Prices\n",
      "• Built a predictive model using linear regression and random forest algorithms to forecast real estate prices based on historical and\n",
      "geographical data.\n",
      "• Engineered features and optimized hyperparameters, achieving an R² score of 0.85 on the test dataset.\n",
      "• Visualized key trends in pricing using Seaborn and Matplotlib to communicate insights to stakeholders.\n",
      "Sentiment Analysis of Social Media Posts\n",
      "• Implemented an NLP pipeline to classify social media posts using a combination of TF-IDF vectorization and logistic regression, achieving\n",
      "90% accuracy.\n",
      "• Scraped and cleaned over 10,000 posts from Twitter using Tweepy and Python.\n",
      "• Built dashboards in Tableau to present trends in sentiment over time.\n",
      "CERTIFICATIONS\n",
      "Data Science 2.0\n",
      "Physics Wallah\n",
      "Google Analytics\n",
      "Great Learning\n",
      "Crash Course on Data Analytics\n",
      "Great Learning\n",
      "Data Science Full Stack Pro\n",
      "Physics Wallah\n",
      "Deep Learning\n",
      "NEPTEL\n",
      "SKILLS\n",
      "• Phyton\n",
      "• Data Science Tools: NumPy, Pandas, Scikit-learn, TensorFlow, Keras, Matplotlib, Seaborn.\n",
      "• Databases: MySQL.\n",
      "• Machine Learning & AI: Supervised & Unsupervised Learning, Deep Learning, Computer vision , GenAI\n",
      "• Other Skills: Data Visualization (Tableau), Data Cleaning, Statistical Analysis , ETL\n",
      "• Communication\n",
      "• Problem-Solving\n",
      "• Leadership\n",
      "• Critical Thinking\n",
      ".\n"
     ]
    }
   ],
   "source": [
    "#Resumes we are going to use during our analysis\n",
    "with pdfplumber.open(r\"C:\\Jasmine\\resume (1) aryan.pdf\") as pdf:\n",
    "    resume1 = \"\"\n",
    "    for page in pdf.pages:\n",
    "        resume1 += page.extract_text()\n",
    "print(resume1)"
   ]
  },
  {
   "cell_type": "code",
   "execution_count": 3,
   "id": "496b1169",
   "metadata": {},
   "outputs": [],
   "source": [
    "with pdfplumber.open(r\"C:\\Jasmine\\resume (1) aryan.pdf\") as pdf:\n",
    "    resume2 = \"\"\n",
    "    for page in pdf.pages:\n",
    "        resume2 += page.extract_text()\n",
    "#print(text)"
   ]
  },
  {
   "cell_type": "code",
   "execution_count": 4,
   "id": "dcd4f9b4",
   "metadata": {
    "scrolled": true
   },
   "outputs": [
    {
     "name": "stdout",
     "output_type": "stream",
     "text": [
      "Enter the job description:  Proficiency in SQL and data visualization tools (Tableau, Looker) as well as standard NLP analysis tooling (Numpy, Pandas, Jupyter) Strong knowledge of statistics and experimental design 3+ years experience working with and analyzing large data sets to solve problems (Bonus: part of that with language/text data) The ability to communicate results clearly written, verbally, and via presentations Bonus: an advanced degree in a quantitative field ( Statistics, Sciences, Engineering, CS, Math)\n"
     ]
    }
   ],
   "source": [
    "#Prompt for the Job description.\n",
    "jd = input(\"Enter the job description: \")  "
   ]
  },
  {
   "cell_type": "code",
   "execution_count": 5,
   "id": "391fead7",
   "metadata": {},
   "outputs": [],
   "source": [
    "def get_similarity(resume, jd):\n",
    "    res = ''.join([i for i in resume if not i.isdigit()])\n",
    "    res_jd=[res, jd]\n",
    "    cntv = CountVectorizer()\n",
    "    count_matrix = cntv.fit_transform(res_jd)\n",
    "    percentage = round((cosine_similarity(count_matrix)[0][1] * 100),2)\n",
    "    return percentage"
   ]
  },
  {
   "cell_type": "code",
   "execution_count": 6,
   "id": "d0832274",
   "metadata": {},
   "outputs": [
    {
     "name": "stdout",
     "output_type": "stream",
     "text": [
      "\n",
      "Similarity Scores: between resume 1 and Job Description is  55.02\n"
     ]
    }
   ],
   "source": [
    "per1=get_similarity(resume1,jd)\n",
    "print(\"\\nSimilarity Scores: between resume 1 and Job Description is \",per1) "
   ]
  },
  {
   "cell_type": "code",
   "execution_count": 7,
   "id": "0befedc2",
   "metadata": {},
   "outputs": [
    {
     "name": "stdout",
     "output_type": "stream",
     "text": [
      "\n",
      "Similarity Scores: between resume 2 and Job Description is  55.02\n"
     ]
    }
   ],
   "source": [
    "per2=get_similarity(resume2,jd)\n",
    "print(\"\\nSimilarity Scores: between resume 2 and Job Description is \",per2) "
   ]
  },
  {
   "cell_type": "code",
   "execution_count": 8,
   "id": "9f9f6c3b",
   "metadata": {},
   "outputs": [
    {
     "name": "stdout",
     "output_type": "stream",
     "text": [
      "\n",
      "  Jaccard  :   0.5375\n"
     ]
    }
   ],
   "source": [
    "#Used Jaccard distance as a dissimmilarity measure to see how different the resume and JD are\n",
    "def jaccard_distance(resume1,jd):\n",
    "    intersection=len(set.intersection(*[set(resume1),set(jd)]))\n",
    "    union=len(set.union(*[set(resume1),set(jd)]))\n",
    "    return intersection/float(union)\n",
    "b=jaccard_distance(resume1,jd) \n",
    "\n",
    "print('\\n  Jaccard  :  ', b)  "
   ]
  },
  {
   "cell_type": "code",
   "execution_count": 9,
   "id": "37e274d5",
   "metadata": {},
   "outputs": [],
   "source": [
    "from spellchecker import SpellChecker\n",
    "spell = SpellChecker()"
   ]
  },
  {
   "cell_type": "code",
   "execution_count": 10,
   "id": "8b07681f",
   "metadata": {},
   "outputs": [],
   "source": [
    "def spell_check(list):\n",
    "    spell_mistake= False\n",
    "    for i in list:\n",
    "        if i.isalpha()==True:\n",
    "            if i[0].isupper():\n",
    "                exit\n",
    "            else:\n",
    "                i=i.lower()\n",
    "                word=spell.correction(i)\n",
    "                if i!= word:\n",
    "                    print('wrong spelling: ',i,'\\nSuggestions are as follow :',word)\n",
    "                    spell_mistake= True\n",
    "    if spell_mistake==False:\n",
    "        print('No spelling mistakes, good to go..') "
   ]
  },
  {
   "cell_type": "code",
   "execution_count": 11,
   "id": "5cb0bc5a",
   "metadata": {},
   "outputs": [],
   "source": [
    "word = resume1.split()"
   ]
  },
  {
   "cell_type": "code",
   "execution_count": 12,
   "id": "ee4ac2e6",
   "metadata": {},
   "outputs": [
    {
     "name": "stdout",
     "output_type": "stream",
     "text": [
      "wrong spelling:  chatbot \n",
      "Suggestions are as follow : chariot\n",
      "wrong spelling:  chatbot \n",
      "Suggestions are as follow : chariot\n",
      "wrong spelling:  analysed \n",
      "Suggestions are as follow : analyzed\n",
      "wrong spelling:  behaviour \n",
      "Suggestions are as follow : behavior\n"
     ]
    }
   ],
   "source": [
    "spell_check(word)"
   ]
  },
  {
   "cell_type": "code",
   "execution_count": null,
   "id": "bfc63d27",
   "metadata": {},
   "outputs": [],
   "source": []
  },
  {
   "cell_type": "code",
   "execution_count": 13,
   "id": "f8ff9101",
   "metadata": {},
   "outputs": [],
   "source": [
    "from transformers import pipeline"
   ]
  },
  {
   "cell_type": "code",
   "execution_count": 14,
   "id": "37f915f3",
   "metadata": {},
   "outputs": [
    {
     "name": "stderr",
     "output_type": "stream",
     "text": [
      "Device set to use cpu\n"
     ]
    },
    {
     "name": "stdout",
     "output_type": "stream",
     "text": [
      "Aryan Singh is a final-year B.Tech student in Computer Science and Engineering with a specialization in Data Science. He is proficient in machine learning, and statistical analysis, data visualization with hands-on experience in Python. Seeking a challenging role in data science where he can apply his analytical and problem-solving skills to drive data-driven decision-making.\n"
     ]
    }
   ],
   "source": [
    "summarizer = pipeline(\"summarization\", model=\"facebook/bart-large-cnn\")\n",
    "summary = summarizer(str(resume1), do_sample = False )\n",
    "print(summary[0][\"summary_text\"])\n",
    "                     \n"
   ]
  },
  {
   "cell_type": "code",
   "execution_count": null,
   "id": "44f1e3b4",
   "metadata": {},
   "outputs": [],
   "source": []
  },
  {
   "cell_type": "code",
   "execution_count": 15,
   "id": "552c2068",
   "metadata": {},
   "outputs": [],
   "source": [
    "#performing feature extraction\n",
    "text_list = [resume1, jd]\n",
    "from sklearn.feature_extraction.text import CountVectorizer\n",
    "cv = CountVectorizer()\n",
    "count_matrix = cv.fit_transform(text_list)"
   ]
  },
  {
   "cell_type": "code",
   "execution_count": 16,
   "id": "dea5988e",
   "metadata": {},
   "outputs": [
    {
     "data": {
      "text/plain": [
       "<2x312 sparse matrix of type '<class 'numpy.int64'>'\n",
       "\twith 334 stored elements in Compressed Sparse Row format>"
      ]
     },
     "execution_count": 16,
     "metadata": {},
     "output_type": "execute_result"
    }
   ],
   "source": [
    "count_matrix\n"
   ]
  },
  {
   "cell_type": "code",
   "execution_count": 17,
   "id": "46c9afa5",
   "metadata": {},
   "outputs": [
    {
     "name": "stdout",
     "output_type": "stream",
     "text": [
      "[[1.         0.54826226]\n",
      " [0.54826226 1.        ]]\n"
     ]
    }
   ],
   "source": [
    "from sklearn.metrics.pairwise import cosine_similarity\n",
    "matchPercentage = cosine_similarity(count_matrix)\n",
    "print(matchPercentage)"
   ]
  },
  {
   "cell_type": "code",
   "execution_count": 18,
   "id": "01ef16c4",
   "metadata": {},
   "outputs": [
    {
     "name": "stdout",
     "output_type": "stream",
     "text": [
      "Your resume matches about 54.83% of the job description.\n"
     ]
    }
   ],
   "source": [
    "# get the match percentage\n",
    "matchPercentage = cosine_similarity(count_matrix)[0][1] * 100\n",
    "matchPercentage = round(matchPercentage, 2) \n",
    "print(\"Your resume matches about \"+ str(matchPercentage)+ \"% of the job description.\")"
   ]
  },
  {
   "cell_type": "code",
   "execution_count": null,
   "id": "69a4bd60",
   "metadata": {},
   "outputs": [],
   "source": []
  },
  {
   "cell_type": "code",
   "execution_count": 19,
   "id": "a6498f9b",
   "metadata": {},
   "outputs": [
    {
     "name": "stderr",
     "output_type": "stream",
     "text": [
      "[nltk_data] Downloading package stopwords to\n",
      "[nltk_data]     C:\\Users\\jasmi\\AppData\\Roaming\\nltk_data...\n",
      "[nltk_data]   Package stopwords is already up-to-date!\n"
     ]
    },
    {
     "data": {
      "text/plain": [
       "True"
      ]
     },
     "execution_count": 19,
     "metadata": {},
     "output_type": "execute_result"
    }
   ],
   "source": [
    "import nltk\n",
    "nltk.download(\"stopwords\")"
   ]
  },
  {
   "cell_type": "code",
   "execution_count": 20,
   "id": "be89b93c",
   "metadata": {},
   "outputs": [],
   "source": [
    "from rake_nltk import Rake"
   ]
  },
  {
   "cell_type": "code",
   "execution_count": 21,
   "id": "3cebda6d",
   "metadata": {
    "scrolled": true
   },
   "outputs": [
    {
     "name": "stdout",
     "output_type": "stream",
     "text": [
      "['data analytics great learning data science full stack pro physics wallah deep learning neptel skills • phyton • data science tools', '0 cgpa 12th delhi public school • faridabad • 2021 • 7', 'data science gautam buddha university • greater noida • 2025 • 8', '0 physics wallah google analytics great learning crash course', '2 cgpa experience data scientist cognifyz technologies remote • proficient', 'effective decision making • developed interactive dashboards using tableau', 'client senior leadership • created visuals', 'implementing machine learning algorithms using python libraries', 'tata consultancy services • prepared questions', 'solving • leadership • critical thinking', 'etl • communication • problem', 'social media posts • implemented', 'real estate prices • built', 'certifications data science 2', 'classify social media posts using', 'british airways success • scraped', 'forecast real estate prices based', 'simulation involving creating data visualizations', 'data scientist british airways', '• data scientist bcg', 'deep learning', '• machine learning', 'predictive model using linear regression', 'uncover findings • built', '• tools', 'data !” education bachelor', 'analysed customer review data', 'tableau ), data cleaning', '• visualized key trends', 'interpreted complex financial data', '• built dashboards', 'increased customer acquisition rate', 'improving report generation speed', 'aryansinghhh summary highly motivated', 'powered financial chatbot development', 'remote • completed', 'remote • completed', 'remote • completed', '• gained experience', 'data science', 'data science', 'data science', 'data analyst tata', 'job simulation involving ai', 'machine learning', '• engineered features', 'solving skills', 'computer science specialization', 'twitter using tweepy', 'enhancing executive decision', 'unsupervised learning', 'pricing using seaborn', 'random forest algorithms', 'computer science', '• scraped', 'synthesize complex datasets', 'creating actionable features', 'building predictive models', 'genai •', 'process large datasets', 'influence buying behaviour', 'handling missing values', 'projects predictive modeling', 'genai consulting team', 'friendly financial insights', 'genai job simulation', '• skilled', '• integrated', '• experienced', '• databases', 'skills', 'geographical data', 'drive data', 'data visualization', 'data visualization', 'data manipulation', 'data exploration', 'categorical data', 'data analysis', '0', 'aryan singh aryansingh564738', 'predictive model', 'driven decision', 'linear regression', 'making processes', 'critical component', '000 posts', 'job simulation', 'job simulation', 'proficient', 'based logic', 'simulation focussing', 'random forest', 'present trends', 'logistic regression', 'experience', 'innovative projects', 'actionable insights', 'python programming', 'computer vision', 'year b', 'visualizing distributions', 'understand factors', 'test dataset', 'tech student', 'r² score', 'q reports', 'provides user', 'oriented final', 'optimized hyperparameters', 'nlp pipeline', 'making', 'libraries', 'idf vectorization', 'help executives', 'employing rule', 'communicate insights', 'challenging role', 'b22462267 github', '30 %.', 'statistical analysis', 'statistical analysis', 'statistical analysis', 'tableau', 'tableau', 'com 7011714773', 'achieving 90', 'sentiment analysis', 'problem', 'chatbot', 'bcg', 'ai', 'python', 'python', 'python', 'specialization', 'singh', 'seaborn', 'insights', 'aryan', 'analysis', 'sentiment', 'com', 'achieving', '“', 'use', 'time', 'tf', 'tensorflow', 'technology', 'supervised', 'stakeholders', 'sql', 'seeking', 'scikit', 'scikit', 'scikit', 'preprocessing', 'pandas', 'pandas', 'pandas', 'numpy', 'numerical', 'mysql', 'meeting', 'matplotlib', 'matplotlib', 'learn', 'learn', 'learn', 'know', 'keras', 'k', 'including', 'historical', 'hands', 'gmail', 'engineering', 'detail', 'create', 'contribute', 'combination', 'cleaned', 'apply', 'analytical', 'accuracy', '85', '15', '10', '10', '10', '..']\n"
     ]
    }
   ],
   "source": [
    "r=Rake()\n",
    "r.extract_keywords_from_text(resume1)\n",
    "keywords_resume1 = r.get_ranked_phrases()\n",
    "print(keywords_resume1)"
   ]
  },
  {
   "cell_type": "code",
   "execution_count": 22,
   "id": "53e92c13",
   "metadata": {},
   "outputs": [
    {
     "name": "stdout",
     "output_type": "stream",
     "text": [
      "['standard nlp analysis tooling', 'communicate results clearly written', 'analyzing large data sets', 'years experience working', 'experimental design 3', 'data visualization tools', 'via presentations bonus', 'text data', 'strong knowledge', 'solve problems', 'quantitative field', 'advanced degree', 'bonus', 'well', 'verbally', 'tableau', 'statistics', 'statistics', 'sql', 'sciences', 'proficiency', 'part', 'pandas', 'numpy', 'math', 'looker', 'language', 'jupyter', 'engineering', 'cs', 'ability']\n"
     ]
    }
   ],
   "source": [
    "r.extract_keywords_from_text(jd)\n",
    "keywords_jd = r.get_ranked_phrases()\n",
    "print(keywords_jd)"
   ]
  },
  {
   "cell_type": "code",
   "execution_count": 23,
   "id": "b88fa1e9",
   "metadata": {},
   "outputs": [
    {
     "name": "stdout",
     "output_type": "stream",
     "text": [
      "Present words are:  ['tableau', 'sql', 'pandas', 'numpy', 'engineering']\n",
      "Absent words are:  ['standard nlp analysis tooling', 'communicate results clearly written', 'analyzing large data sets', 'years experience working', 'experimental design 3', 'data visualization tools', 'via presentations bonus', 'text data', 'strong knowledge', 'solve problems', 'quantitative field', 'advanced degree', 'bonus', 'well', 'verbally', 'statistics', 'statistics', 'sciences', 'proficiency', 'part', 'math', 'looker', 'language', 'jupyter', 'cs', 'ability']\n"
     ]
    }
   ],
   "source": [
    "present = []\n",
    "absent = []\n",
    "for i in keywords_jd:\n",
    "    if i in keywords_resume1:\n",
    "        present.append(i) \n",
    "    else:\n",
    "        absent.append(i)\n",
    "print(\"Present words are: \", present)\n",
    "print(\"Absent words are: \", absent)"
   ]
  },
  {
   "cell_type": "code",
   "execution_count": 24,
   "id": "901ba7d9",
   "metadata": {},
   "outputs": [],
   "source": [
    "#Classification of skills"
   ]
  },
  {
   "cell_type": "code",
   "execution_count": 25,
   "id": "f1d18b2d",
   "metadata": {},
   "outputs": [],
   "source": [
    "from spacy.matcher import PhraseMatcher"
   ]
  },
  {
   "cell_type": "code",
   "execution_count": 26,
   "id": "c2bb3e4a",
   "metadata": {},
   "outputs": [],
   "source": [
    "pdfFileObj = open(\"C:\\Jasmine\\semal-resume (1).pdf\",'rb')"
   ]
  },
  {
   "cell_type": "code",
   "execution_count": 27,
   "id": "edf27248",
   "metadata": {},
   "outputs": [],
   "source": [
    "pdfReader = PyPDF2.PdfReader(pdfFileObj)"
   ]
  },
  {
   "cell_type": "code",
   "execution_count": 28,
   "id": "710fcddb",
   "metadata": {},
   "outputs": [],
   "source": [
    "text=\"\"\n",
    "count=0\n",
    "num_pages = len(pdfReader.pages)"
   ]
  },
  {
   "cell_type": "code",
   "execution_count": 29,
   "id": "3f29263c",
   "metadata": {},
   "outputs": [],
   "source": [
    "while count < num_pages:\n",
    "        pageObj = pdfReader.pages[count]  # Use the new method\n",
    "        text += pageObj.extract_text()  # Extract text from the page\n",
    "        count += 1"
   ]
  },
  {
   "cell_type": "code",
   "execution_count": 30,
   "id": "77815f13",
   "metadata": {},
   "outputs": [
    {
     "data": {
      "text/plain": [
       "\"+918587868917First Position in Microsoft Azure\\nBlogathon by ID8NXT and Microsoft Azure.\\nLink\\n5 Star Rating on HackerRank for Python\\nand SQL. Link \\nAcademic achievement:  9.52 SGPA  in 5th\\nsemesterA C H I E V E M E N T S\\nP R O J E C T SE X P E R T I S E E D U C A T I O N\\nT E C H N I C A L  E X P E R I E N C ESQLLanguages:BTech in Computer Science Engineering with Specialization in Machine Learning\\n                                                                                                                                   (2021-2025) Gautam Buddha University, Greater Noida\\nMachine Learning Intern\\nOmnipresent Robot Tech\\nDeveloped a software for an Indoor Autonomous Warehouse UAV using\\nComputer Vision, Drone Technology and IoT for detecting and recognizing objects\\nwith the help of various frameworks and libraries like PyTorch and OpenCV.(July, 2022 - August 2022)\\nC E R T I F I C A T I O N S\\nCareer Essentials in Generative AI by\\nMicrosoft and LinkedIn. Link\\nMicrosoft Learn AI Skills Challenge by\\nMicrosoft. Link\\nArtificial Intelligence Virtual Experience\\nProgram by Cognizant. LinkSEMAL JOHARI\\nAI/ML ENTHUSIAST\\nPython\\nCDart\\nHTMLFrameworks:\\nTensorFlow\\nStreamLit\\nScikit-Learn\\nMatplotlib\\nPyTorchFlask\\nKerasNumPy\\nCSS\\nJava\\nR\\nTechnologies:\\nMachine Learning\\nData Science\\nDeep Learning\\nComputer Vision\\nNatural Language Processing  \\nWeb Development\\nCloud (Microsoft Azure, AWS & GCP)Generative AI\\nData Analysis\\nNeural Networks\\nCommunity Lead\\nCodeChef GBU Chapter/ Coding Community, GBU\\nManaged and organized Technical Events and Hackathons\\nEncouraged participation in Nation-Wide  Hackathons(April, 2023 - April, 2024)Contributor\\nGirlScript Summer of Code\\nContributing to several Open Source Projects on Github related to Generative AI\\nand Machine Learning(April, 2024 - Present)\\nGit & GitHub\\nOpen Source Contributor\\nSocial Winter of Code\\nContributed to several Open Source Projects on Github related to Generative AI,\\nComputer Vision, Neural Networks and Machine Learning(December, 2023 - March, 2024)\\nTranquil Tour- Tourism Website\\nGithub\\nCreated a Tourism website 'Tranquil Tour' using HTML-CSS for providing travel\\nguides to tourists, and rendered on Flask framework.  \\nImplemented a Recommendation System on the basis of Collaborative Filtering\\nand modelled using Scikit-Learn, Pandas and SciPy libraries, which gives\\nrecommendations of Indian cities to the users based on the cities entered by them.(April, 2023 - June, 2023)\\nGrocery Stock Levels Prediction\\nGithub\\nTrained a Machine Learning model using a Multiple Regression algorithm using the\\nPandas, Scikit-learn libraries, Matplotlib, Sweetviz and Seaborn libraries, to predict the\\nstock levels of a hypothetical Groceries Enterprise, based on the data from IOT\\nsensors from the storage cell and the sales data.  \\nCreated a web application of the model using HTML-CSS.(July, 2023)\\n3-in-1 GPT Model\\nGithub\\nBuilt this application fully using Python, using the StreamLit library and OpenAI\\nmodule. It has been built on top of Speech Generation and Image Generation APIs\\non the OpenAI API Platform and serves three purposes: as a Conversational Agent,\\nSpeech Generator and Image Generator.(December, 2023)SQL (Advanced) by HackerRank. Link\\nGoogle Cloud Skills Boost  Badges . Link\\nArtificial Intelligence ESDP  by IITK and\\nMSME . Link\\nAWS Knowledge: Cloud Essentials  by\\nAmazon Web Services. Link\\nMachine Learning with Python by IBM. Link\\nOpenCV Bootcamp by OpenCV. LinkOpenCV\\nSciPy\\nSeaborn\\nCareer Essentials in Data Analysis by\\nMicrosoft and LinkedIn. LinkArtificial Intelligence Intern\\nStillsweb\\nWorking on analysizing satellite multispectral data for the estimation of the local\\nclimate, vegetation indices and soil types in different farms to derive patterns for\\nthe types of crops grown due to the given factors.(June, 2024 - Present)\\nC O N T A C T\\nhttps://semaljohari.github.io/portfolio-\\nwebsite/index.html\\nlinkedin.com/in/semal-johari-a276a0233\\ngithub.com/SemalJoharisemaljohari80@gmail.com\""
      ]
     },
     "execution_count": 30,
     "metadata": {},
     "output_type": "execute_result"
    }
   ],
   "source": [
    "text"
   ]
  },
  {
   "cell_type": "code",
   "execution_count": 31,
   "id": "395e2df5",
   "metadata": {},
   "outputs": [],
   "source": [
    "import re\n",
    "import string\n",
    "text = text.lower()\n",
    "text = re.sub(r'\\d+','',text)\n",
    "text = text.translate(str.maketrans('','',string.punctuation))"
   ]
  },
  {
   "cell_type": "code",
   "execution_count": 32,
   "id": "4d9f6e64",
   "metadata": {},
   "outputs": [],
   "source": [
    "# Created dictionary with five concentrations of Data Science\n",
    "\n",
    "terms = {'Data Engineering & Warehousing ':['build', 'maintain', 'data', 'pipelines', 'engineering', 'organize', \n",
    "                                            'large','integrity','testing', 'validation', 'Postgres DBs', 'Kinesis',  \n",
    "                                            'APIs', 'Gathering', 'ETL', 'Modeling','data warehouse', 'integrate', \n",
    "                                            'SQL', 'Server', 'design', 'solution', 'ad-hoc', 'streamline','extraction', \n",
    "                                            'troubleshoot', 'architecture', 'endpoints', 'development', 'lake', 'architecture',\n",
    "                                            'databases', 'NoSQL', 'exploration'],      \n",
    "        'Data Mining & Statistical Analysis':['SAS', 'ANOVA', 'statistical', 'methodologies', 'regression', 'data mining',\n",
    "                                             'problem-solving', 'theories', 'test', 'hypotheses', 'anamoly-detection',\n",
    "                                             'SPSS', 'RStudio', 'quantitative', 'analyses', 'model', 'mathematics', 'statistic',\n",
    "                                             'techniques', 'Bayesian', 'research', 'sampling', 'findings', 'analysis', 'R',\n",
    "                                             'conduct', 'insights', 'statistical integrity', 'math', 'identify', 'analyze',\n",
    "                                             'trend', 'stake-holders', 'MATLAB', 'Inferential Statistics','Multivariate Analysis', \n",
    "                                              'Linear','Non-linear', 'mortality', 'risk factors', 'survey'],\n",
    "        'Cloud & Distributed Computing':['multi-cloud', 'develop','cloud solutions', 'domain','architects', 'technical', 'cloud',\n",
    "                                        'architecture','engineering', 'TOGAF','Zachman', 'Policies','Governance', 'Strategies',\n",
    "                                        'AWS', 'Redshift', 'PostgresQL', 'Oracle', 'cloud based', 'OLTP''metadata','OLAP', 'GCP',\n",
    "                                        'Spark', 'APIs', 'Python', 'framework', 'understanding', 'data-driven', 'Azure', 'platform',\n",
    "                                        'design', 'domain', 'tool', 'trend', 'deployment', 'application','build','environment','DevOps',\n",
    "                                         'pipeline', 'manage', 'server', 'services'],\n",
    "        'ML & AI':['structured', 'unstructured', 'kafka', 'spark', 'datapieline', 'big data','technologies', 'hive','hadoop','PySpark', \n",
    "                   'Python', 'SQL', 'MySQL', 'databases','tools', 'AWS', 'GCP', 'information retrieval', 'machine learning', 'features', \n",
    "                   'engineering','data mining', 'data processing', 'large', 'NLP', 'text', 'analytical skills', 'deployment','Git', 'Linux', \n",
    "                   'Windows','C','C++','Java','DevOps','distributed', 'software','development','requirements', 'experience', 'Tensor Flow', \n",
    "                   'PyTorch','supervised', 'unsupervised', 'building','evaluation', 'ML libraries','frameworks', 'exploratory analyses',\n",
    "                   'traditional','techniques','AI', 'algorithms', 'analyze', 'develop', 'evaluate','classification','library'],\n",
    "        'Data Visualization':['analytics','BI Tools','chart','big data','business intelligence','power BI','BOBJ','visualization','data',\n",
    "                              'database','data mining','data science','charts','hadoop','graphs','MS Excel','pivot-tables','machine learning',\n",
    "                              'creative','nosql','nlp','predictive','insights','python','r','sql','tableau','text mining','findings', 'communication', \n",
    "                              'skills', 'statistical', 'data-driven', 'SPSS', 'Alteryx', 'business', 'identify', 'dashboard','Bash','statistical',\n",
    "                             'resolve', 'translate', 'summerize', 'analyst', 'ggplot2', 'reporting', 'business', 'result']}"
   ]
  },
  {
   "cell_type": "code",
   "execution_count": 33,
   "id": "d2e7b313",
   "metadata": {},
   "outputs": [],
   "source": [
    "de= 0\n",
    "dm = 0\n",
    "cc = 0\n",
    "mlai=0\n",
    "dv = 0\n",
    "\n",
    "scores = []\n",
    "\n",
    "for area in terms.keys():\n",
    "        \n",
    "    if area == 'Data Engineering & Warehousing':\n",
    "        for word in terms[area]:\n",
    "            if word in text:\n",
    "                de +=1\n",
    "        scores.append(de)\n",
    "        \n",
    "    elif area == 'Data Mining & Statistical Analysis':\n",
    "        for word in terms[area]:\n",
    "            if word in text:\n",
    "                dm +=1\n",
    "        scores.append(dm)\n",
    "        \n",
    "    elif area == 'Cloud & Distributed Computing':\n",
    "        for word in terms[area]:\n",
    "            if word in text:\n",
    "                cc +=1\n",
    "        scores.append(cc)\n",
    "    \n",
    "    elif area == 'ML & AI':\n",
    "        for word in terms[area]:\n",
    "            if word in text:\n",
    "                mlai +=1\n",
    "        scores.append(mlai)\n",
    "        \n",
    "    else:\n",
    "        for word in terms[area]:\n",
    "            if word in text:\n",
    "                dv +=1\n",
    "        scores.append(dv)"
   ]
  },
  {
   "cell_type": "code",
   "execution_count": 34,
   "id": "bf376c52",
   "metadata": {},
   "outputs": [
    {
     "data": {
      "text/html": [
       "<div>\n",
       "<style scoped>\n",
       "    .dataframe tbody tr th:only-of-type {\n",
       "        vertical-align: middle;\n",
       "    }\n",
       "\n",
       "    .dataframe tbody tr th {\n",
       "        vertical-align: top;\n",
       "    }\n",
       "\n",
       "    .dataframe thead th {\n",
       "        text-align: right;\n",
       "    }\n",
       "</style>\n",
       "<table border=\"1\" class=\"dataframe\">\n",
       "  <thead>\n",
       "    <tr style=\"text-align: right;\">\n",
       "      <th></th>\n",
       "      <th>score</th>\n",
       "    </tr>\n",
       "  </thead>\n",
       "  <tbody>\n",
       "    <tr>\n",
       "      <th>Data Visualization</th>\n",
       "      <td>11</td>\n",
       "    </tr>\n",
       "    <tr>\n",
       "      <th>Cloud &amp; Distributed Computing</th>\n",
       "      <td>9</td>\n",
       "    </tr>\n",
       "    <tr>\n",
       "      <th>ML &amp; AI</th>\n",
       "      <td>9</td>\n",
       "    </tr>\n",
       "    <tr>\n",
       "      <th>Data Engineering &amp; Warehousing</th>\n",
       "      <td>4</td>\n",
       "    </tr>\n",
       "    <tr>\n",
       "      <th>Data Mining &amp; Statistical Analysis</th>\n",
       "      <td>3</td>\n",
       "    </tr>\n",
       "  </tbody>\n",
       "</table>\n",
       "</div>"
      ],
      "text/plain": [
       "                                    score\n",
       "Data Visualization                     11\n",
       "Cloud & Distributed Computing           9\n",
       "ML & AI                                 9\n",
       "Data Engineering & Warehousing          4\n",
       "Data Mining & Statistical Analysis      3"
      ]
     },
     "execution_count": 34,
     "metadata": {},
     "output_type": "execute_result"
    }
   ],
   "source": [
    "summary = pd.DataFrame(scores,index=terms.keys(),columns=['score']).sort_values(by='score',ascending=False)\n",
    "summary"
   ]
  },
  {
   "cell_type": "code",
   "execution_count": 35,
   "id": "d8c5fa8c",
   "metadata": {},
   "outputs": [
    {
     "data": {
      "image/png": "[encoded data removed]",
      "text/plain": [
       "<Figure size 700x700 with 1 Axes>"
      ]
     },
     "metadata": {},
     "output_type": "display_data"
    }
   ],
   "source": [
    "pie = plt.figure(figsize=(7,7))\n",
    "plt.pie(summary['score'], labels=summary.index, explode = (0.07,0,0,0,0), autopct='%1.0f%%',shadow=True,startangle=90)\n",
    "plt.title('Classification of Skills')\n",
    "plt.axis('equal')\n",
    "plt.show()"
   ]
  },
  {
   "cell_type": "code",
   "execution_count": 36,
   "id": "29d6290f",
   "metadata": {},
   "outputs": [],
   "source": [
    "#skill gap analysis"
   ]
  },
  {
   "cell_type": "code",
   "execution_count": 37,
   "id": "c2df66a9",
   "metadata": {},
   "outputs": [],
   "source": [
    "skill_areas = {}\n",
    "\n",
    "for area in terms:\n",
    "    for skill in terms[area]:\n",
    "        skill_areas[skill.lower()] = area  # lowercase for uniformity\n"
   ]
  },
  {
   "cell_type": "code",
   "execution_count": 38,
   "id": "e906fac0",
   "metadata": {},
   "outputs": [],
   "source": [
    "missing_skills_by_area = {}\n",
    "for skill in absent:\n",
    "    skill_lower = skill.lower()\n",
    "    if skill_lower in skill_areas:\n",
    "        area = skill_areas[skill_lower]\n",
    "        if area not in missing_skills_by_area:\n",
    "            missing_skills_by_area[area] = []\n",
    "        missing_skills_by_area[area].append(skill)\n"
   ]
  },
  {
   "cell_type": "code",
   "execution_count": 39,
   "id": "9b2d6c9b",
   "metadata": {},
   "outputs": [],
   "source": [
    "recommendations = {\n",
    "    'ML & AI': [\n",
    "        'Coursera - Machine Learning by Andrew Ng',\n",
    "        'fast.ai Practical Deep Learning',\n",
    "        'Hands-On ML with Scikit-Learn, Keras & TensorFlow (book)'\n",
    "    ],\n",
    "    'Data Visualization': [\n",
    "        'Tableau Public Training',\n",
    "        'DataCamp - Data Visualization in Python',\n",
    "        'Storytelling with Data (book)'\n",
    "    ],\n",
    "    'Cloud & Distributed Computing': [\n",
    "        'AWS Training and Certification',\n",
    "        'Google Cloud Skills Boost',\n",
    "        'Coursera - Cloud Computing Specialization'\n",
    "    ],\n",
    "    'Data Mining & Statistical Analysis': [\n",
    "        'Khan Academy - Statistics and Probability',\n",
    "        'Coursera - Data Analysis with R',\n",
    "        'Think Stats (book, free online)'\n",
    "    ],\n",
    "    'Data Engineering & Warehousing': [\n",
    "        'Data Engineering on Google Cloud (Coursera)',\n",
    "        'YouTube - Data Engineering Simplified',\n",
    "        'Designing Data-Intensive Applications (book)'\n",
    "    ]\n",
    "}\n"
   ]
  },
  {
   "cell_type": "code",
   "execution_count": 40,
   "id": "25dfc386",
   "metadata": {},
   "outputs": [
    {
     "name": "stdout",
     "output_type": "stream",
     "text": [
      "\n",
      "🔧 Area: Data Mining & Statistical Analysis\n",
      "Missing Skills: ['math']\n",
      "📘 Recommended Resources:\n",
      " - Khan Academy - Statistics and Probability\n",
      " - Coursera - Data Analysis with R\n",
      " - Think Stats (book, free online)\n"
     ]
    }
   ],
   "source": [
    "for area, skills in missing_skills_by_area.items():\n",
    "    print(f\"\\n🔧 Area: {area}\")\n",
    "    print(f\"Missing Skills: {skills}\")\n",
    "    print(\"📘 Recommended Resources:\")\n",
    "    for r in recommendations[area]:\n",
    "        print(\" -\", r)\n"
   ]
  },
  {
   "cell_type": "code",
   "execution_count": 41,
   "id": "e3428626",
   "metadata": {},
   "outputs": [],
   "source": [
    "#missingskill importance\n",
    "from collections import Counter\n",
    "\n",
    "skill_importance = {}\n",
    "\n",
    "for skill in absent:\n",
    "    skill_lower = skill.lower()\n",
    "    count = jd.lower().count(skill_lower)\n",
    "    if count > 0:\n",
    "        skill_importance[skill] = count\n"
   ]
  },
  {
   "cell_type": "code",
   "execution_count": 42,
   "id": "0e23b81c",
   "metadata": {
    "scrolled": true
   },
   "outputs": [
    {
     "name": "stdout",
     "output_type": "stream",
     "text": [
      "\n",
      "🔝 Ranked Missing Skills by Importance:\n",
      "cs - Importance Score: 3\n",
      "bonus - Importance Score: 2\n",
      "statistics - Importance Score: 2\n",
      "standard nlp analysis tooling - Importance Score: 1\n",
      "communicate results clearly written - Importance Score: 1\n",
      "analyzing large data sets - Importance Score: 1\n",
      "years experience working - Importance Score: 1\n",
      "experimental design 3 - Importance Score: 1\n",
      "data visualization tools - Importance Score: 1\n",
      "via presentations bonus - Importance Score: 1\n",
      "text data - Importance Score: 1\n",
      "strong knowledge - Importance Score: 1\n",
      "solve problems - Importance Score: 1\n",
      "quantitative field - Importance Score: 1\n",
      "advanced degree - Importance Score: 1\n",
      "well - Importance Score: 1\n",
      "verbally - Importance Score: 1\n",
      "sciences - Importance Score: 1\n",
      "proficiency - Importance Score: 1\n",
      "part - Importance Score: 1\n",
      "math - Importance Score: 1\n",
      "looker - Importance Score: 1\n",
      "language - Importance Score: 1\n",
      "jupyter - Importance Score: 1\n",
      "ability - Importance Score: 1\n"
     ]
    }
   ],
   "source": [
    "ranked_skills = sorted(skill_importance.items(), key=lambda x: x[1], reverse=True)\n",
    "\n",
    "print(\"\\n🔝 Ranked Missing Skills by Importance:\")\n",
    "for skill, freq in ranked_skills:\n",
    "    print(f\"{skill} - Importance Score: {freq}\")\n"
   ]
  },
  {
   "cell_type": "code",
   "execution_count": 43,
   "id": "f5bd7cf4",
   "metadata": {},
   "outputs": [
    {
     "name": "stdout",
     "output_type": "stream",
     "text": [
      "\n",
      "🔝 Ranked Missing Skills by Normalized Importance:\n",
      "cs — 4.2254% relevance in JD\n",
      "bonus — 2.8169% relevance in JD\n",
      "statistics — 2.8169% relevance in JD\n",
      "standard nlp analysis tooling — 1.4085% relevance in JD\n",
      "communicate results clearly written — 1.4085% relevance in JD\n",
      "analyzing large data sets — 1.4085% relevance in JD\n",
      "years experience working — 1.4085% relevance in JD\n",
      "experimental design 3 — 1.4085% relevance in JD\n",
      "data visualization tools — 1.4085% relevance in JD\n",
      "via presentations bonus — 1.4085% relevance in JD\n",
      "text data — 1.4085% relevance in JD\n",
      "strong knowledge — 1.4085% relevance in JD\n",
      "solve problems — 1.4085% relevance in JD\n",
      "quantitative field — 1.4085% relevance in JD\n",
      "advanced degree — 1.4085% relevance in JD\n",
      "well — 1.4085% relevance in JD\n",
      "verbally — 1.4085% relevance in JD\n",
      "sciences — 1.4085% relevance in JD\n",
      "proficiency — 1.4085% relevance in JD\n",
      "part — 1.4085% relevance in JD\n",
      "math — 1.4085% relevance in JD\n",
      "looker — 1.4085% relevance in JD\n",
      "language — 1.4085% relevance in JD\n",
      "jupyter — 1.4085% relevance in JD\n",
      "ability — 1.4085% relevance in JD\n"
     ]
    }
   ],
   "source": [
    "# Step 1: Get total number of words in the job description\n",
    "jd_words = jd.lower().split()\n",
    "total_words = len(jd_words)\n",
    "\n",
    "# Step 2: Create importance dictionary with normalized frequency\n",
    "normalized_importance = {}\n",
    "\n",
    "for skill in absent:\n",
    "    skill_lower = skill.lower()\n",
    "    count = jd.lower().count(skill_lower)\n",
    "    if count > 0:\n",
    "        normalized_score = (count / total_words) * 100\n",
    "        normalized_importance[skill] = round(normalized_score, 4)\n",
    "\n",
    "# Step 3: Sort by highest importance\n",
    "ranked_skills = sorted(normalized_importance.items(), key=lambda x: x[1], reverse=True)\n",
    "\n",
    "# Step 4: Display results\n",
    "print(\"\\n🔝 Ranked Missing Skills by Normalized Importance:\")\n",
    "for skill, score in ranked_skills:\n",
    "    print(f\"{skill} — {score}% relevance in JD\")\n"
   ]
  },
  {
   "cell_type": "code",
   "execution_count": 44,
   "id": "eef092bf",
   "metadata": {},
   "outputs": [],
   "source": [
    "#Limitations and improvement"
   ]
  },
  {
   "cell_type": "code",
   "execution_count": 45,
   "id": "d931a006",
   "metadata": {},
   "outputs": [
    {
     "name": "stdout",
     "output_type": "stream",
     "text": [
      "\n",
      "Missing Skills:\n",
      "['data engineering', 'ml', 'sql']\n"
     ]
    }
   ],
   "source": [
    "def missing_skills(resume_keywords, job_keywords, terms):\n",
    "    \"\"\"\n",
    "    Compare resume skills with job and predefined skills, and identify missing skills.\n",
    "    \"\"\"\n",
    "    # Find missing skills\n",
    "    missing = []\n",
    "    \n",
    "    # Check against job description\n",
    "    for skill in job_keywords:\n",
    "        if skill not in resume_keywords:\n",
    "            missing.append(skill)\n",
    "\n",
    "    # Check against predefined skill dictionary\n",
    "    for category, skills in terms.items():\n",
    "        for skill in skills:\n",
    "            if skill not in resume_keywords and skill in job_keywords:\n",
    "                missing.append(skill)\n",
    "    \n",
    "    # Return unique missing skills\n",
    "    missing = list(set(missing))\n",
    "    return missing\n",
    "\n",
    "# Example usage\n",
    "resume_keywords = ['python', 'nlp', 'data analysis']\n",
    "job_keywords = ['python', 'ml', 'sql', 'data engineering']\n",
    "missing = missing_skills(resume_keywords, job_keywords, terms)\n",
    "\n",
    "print(\"\\nMissing Skills:\")\n",
    "print(missing)\n"
   ]
  },
  {
   "cell_type": "code",
   "execution_count": 46,
   "id": "58c24e64",
   "metadata": {},
   "outputs": [
    {
     "name": "stdout",
     "output_type": "stream",
     "text": [
      "Requirement already satisfied: textblob in c:\\users\\jasmi\\anaconda3\\lib\\site-packages (0.19.0)\n",
      "Requirement already satisfied: nltk>=3.9 in c:\\users\\jasmi\\anaconda3\\lib\\site-packages (from textblob) (3.9.1)\n",
      "Requirement already satisfied: regex>=2021.8.3 in c:\\users\\jasmi\\anaconda3\\lib\\site-packages (from nltk>=3.9->textblob) (2022.7.9)\n",
      "Requirement already satisfied: tqdm in c:\\users\\jasmi\\anaconda3\\lib\\site-packages (from nltk>=3.9->textblob) (4.64.1)\n",
      "Requirement already satisfied: joblib in c:\\users\\jasmi\\anaconda3\\lib\\site-packages (from nltk>=3.9->textblob) (1.1.1)\n",
      "Requirement already satisfied: click in c:\\users\\jasmi\\anaconda3\\lib\\site-packages (from nltk>=3.9->textblob) (8.0.4)\n",
      "Requirement already satisfied: colorama in c:\\users\\jasmi\\anaconda3\\lib\\site-packages (from click->nltk>=3.9->textblob) (0.4.6)\n"
     ]
    }
   ],
   "source": [
    "!pip install textblob"
   ]
  },
  {
   "cell_type": "code",
   "execution_count": 47,
   "id": "4dd2a787",
   "metadata": {},
   "outputs": [
    {
     "name": "stdout",
     "output_type": "stream",
     "text": [
      "\n",
      "🛑 Spelling Issues:\n",
      "- experinced ➝ experienced\n",
      "- analist ➝ analyst\n",
      "- proficency ➝ proficiency\n",
      "- NLP. ➝ nap\n",
      "\n",
      "✅ Corrected Grammar Version:\n",
      "I am a experienced data analyst with proficency in Python and NLP.\n"
     ]
    }
   ],
   "source": [
    "from spellchecker import SpellChecker\n",
    "from textblob import TextBlob\n",
    "\n",
    "def grammar_and_spelling_feedback(text):\n",
    "    \"\"\"\n",
    "    Detects spelling and grammar issues in the resume text.\n",
    "    \"\"\"\n",
    "    spell = SpellChecker()\n",
    "    blob = TextBlob(text)\n",
    "    \n",
    "    # Spelling Check\n",
    "    words = text.split()\n",
    "    spelling_issues = {word: spell.correction(word) for word in words if word != spell.correction(word)}\n",
    "    \n",
    "    # Grammar Check\n",
    "    corrected_text = str(blob.correct())\n",
    "    \n",
    "    # Display issues\n",
    "    print(\"\\n🛑 Spelling Issues:\")\n",
    "    for word, correction in spelling_issues.items():\n",
    "        print(f\"- {word} ➝ {correction}\")\n",
    "\n",
    "    print(\"\\n✅ Corrected Grammar Version:\")\n",
    "    print(corrected_text)\n",
    "    \n",
    "    return spelling_issues, corrected_text\n",
    "\n",
    "# Example usage\n",
    "resume_text = \"I am a experinced data analist with proficency in Python and NLP.\"\n",
    "spelling_issues, corrected_resume = grammar_and_spelling_feedback(resume_text)\n"
   ]
  },
  {
   "cell_type": "code",
   "execution_count": 48,
   "id": "f6e8ae50",
   "metadata": {},
   "outputs": [
    {
     "name": "stdout",
     "output_type": "stream",
     "text": [
      "\n",
      "📝 Readability Score: 25.46\n",
      "❗ Suggestion: Your resume might be too complex. Simplify the language.\n"
     ]
    }
   ],
   "source": [
    "import textstat\n",
    "\n",
    "def readability_feedback(text):\n",
    "    \"\"\"\n",
    "    Provides readability score and suggestions.\n",
    "    \"\"\"\n",
    "    score = textstat.flesch_reading_ease(text)\n",
    "    \n",
    "    print(\"\\n📝 Readability Score:\", score)\n",
    "\n",
    "    if score < 50:\n",
    "        print(\"❗ Suggestion: Your resume might be too complex. Simplify the language.\")\n",
    "    elif score > 80:\n",
    "        print(\"✅ Suggestion: Your resume is easy to read.\")\n",
    "    else:\n",
    "        print(\"⚙️ Suggestion: Your resume readability is moderate. Use bullet points and concise sentences.\")\n",
    "\n",
    "# Example usage\n",
    "resume_text = \"Developed and deployed machine learning models to enhance predictive accuracy by 20%.\"\n",
    "readability_feedback(resume_text)\n"
   ]
  },
  {
   "cell_type": "code",
   "execution_count": 49,
   "id": "499a419e",
   "metadata": {},
   "outputs": [
    {
     "name": "stdout",
     "output_type": "stream",
     "text": [
      "\n",
      "🚫 Missing Action Verbs:\n",
      "achieved, improved, designed, implemented, optimized, collaborated, analyzed, delivered, streamlined, led\n",
      "\n",
      "✅ Suggestion: Use more action-oriented words to enhance impact.\n"
     ]
    }
   ],
   "source": [
    "action_verbs = ['achieved', 'improved', 'developed', 'designed', 'implemented', 'deployed',\n",
    "                'optimized', 'collaborated', 'analyzed', 'delivered', 'streamlined', 'led']\n",
    "\n",
    "def check_action_verbs(resume):\n",
    "    \"\"\"\n",
    "    Checks if the resume contains sufficient action verbs.\n",
    "    \"\"\"\n",
    "    missing_verbs = [verb for verb in action_verbs if verb not in resume.lower()]\n",
    "    \n",
    "    if missing_verbs:\n",
    "        print(\"\\n🚫 Missing Action Verbs:\")\n",
    "        print(\", \".join(missing_verbs))\n",
    "        print(\"\\n✅ Suggestion: Use more action-oriented words to enhance impact.\")\n",
    "    else:\n",
    "        print(\"\\n✅ Your resume contains sufficient action verbs.\")\n",
    "\n",
    "# Example usage\n",
    "check_action_verbs(resume_text)\n"
   ]
  },
  {
   "cell_type": "code",
   "execution_count": 50,
   "id": "2aac376d",
   "metadata": {},
   "outputs": [
    {
     "name": "stdout",
     "output_type": "stream",
     "text": [
      "\n",
      "🚫 Missing Soft Skills:\n",
      "communication, leadership, teamwork, creativity, problem-solving, collaboration, adaptability, empathy, critical thinking\n",
      "\n",
      "✅ Suggestion: Include more soft skills relevant to the job.\n"
     ]
    }
   ],
   "source": [
    "soft_skills = ['communication', 'leadership', 'teamwork', 'creativity', 'problem-solving',\n",
    "               'collaboration', 'adaptability', 'empathy', 'critical thinking']\n",
    "\n",
    "def check_soft_skills(resume):\n",
    "    \"\"\"\n",
    "    Detects missing soft skills in the resume.\n",
    "    \"\"\"\n",
    "    missing_skills = [skill for skill in soft_skills if skill not in resume.lower()]\n",
    "    \n",
    "    if missing_skills:\n",
    "        print(\"\\n🚫 Missing Soft Skills:\")\n",
    "        print(\", \".join(missing_skills))\n",
    "        print(\"\\n✅ Suggestion: Include more soft skills relevant to the job.\")\n",
    "    else:\n",
    "        print(\"\\n✅ Your resume contains a good variety of soft skills.\")\n",
    "\n",
    "# Example usage\n",
    "check_soft_skills(resume_text)\n"
   ]
  },
  {
   "cell_type": "code",
   "execution_count": 51,
   "id": "f08f1b4e",
   "metadata": {},
   "outputs": [
    {
     "name": "stdout",
     "output_type": "stream",
     "text": [
      "\n",
      "📄 RESUME FEEDBACK REPORT\n",
      "\n",
      "\n",
      "🔎 Missing Skills:\n",
      "['Bonus:', 'written,', 'sets', 'Pandas,', 'field', 'data', 'ability', '(Numpy,', 'presentations', 'degree', 'that', 'Strong', 'Statistics,', 'as', 'solve', 'design', 'results', 'an', 'quantitative', 'Proficiency', 'data)', 'well', 'analyzing', 'verbally,', 'problems', 'clearly', 'working', 'with', 'CS,', '(Bonus:', '(Tableau,', 'visualization', 'years', 'tools', 'of', 'in', 'part', 'language/text', 'experience', 'Engineering,', 'statistics', 'Looker)', 'tooling', 'large', '3+', 'SQL', 'Jupyter)', 'analysis', '(', 'Sciences,', 'a', 'standard', 'experimental', 'The', 'Math)', 'NLP', 'advanced', 'communicate', 'via', 'knowledge']\n",
      "\n",
      "🛑 Spelling Issues:\n",
      "- 20%. ➝ None\n",
      "\n",
      "✅ Corrected Grammar Version:\n",
      "Developed and deployed machine learning models to enhance prediction accuracy by 20%.\n",
      "\n",
      "📝 Readability Score: 25.46\n",
      "❗ Suggestion: Your resume might be too complex. Simplify the language.\n",
      "\n",
      "🚫 Missing Action Verbs:\n",
      "achieved, improved, designed, implemented, optimized, collaborated, analyzed, delivered, streamlined, led\n",
      "\n",
      "✅ Suggestion: Use more action-oriented words to enhance impact.\n",
      "\n",
      "🚫 Missing Soft Skills:\n",
      "communication, leadership, teamwork, creativity, problem-solving, collaboration, adaptability, empathy, critical thinking\n",
      "\n",
      "✅ Suggestion: Include more soft skills relevant to the job.\n"
     ]
    }
   ],
   "source": [
    "def generate_resume_feedback(resume, job_desc, terms):\n",
    "    \"\"\"\n",
    "    Generates a full resume feedback report with limitations and improvements.\n",
    "    \"\"\"\n",
    "    print(\"\\n📄 RESUME FEEDBACK REPORT\\n\")\n",
    "\n",
    "    # Missing Skills\n",
    "    resume_keywords = resume.split()\n",
    "    job_keywords = job_desc.split()\n",
    "    missing = missing_skills(resume_keywords, job_keywords, terms)\n",
    "    \n",
    "    print(\"\\n🔎 Missing Skills:\")\n",
    "    print(missing if missing else \"✅ No missing skills detected.\")\n",
    "\n",
    "    # Grammar & Spelling\n",
    "    grammar_and_spelling_feedback(resume)\n",
    "    \n",
    "    # Readability\n",
    "    readability_feedback(resume)\n",
    "\n",
    "    # Action Verbs\n",
    "    check_action_verbs(resume)\n",
    "    \n",
    "    # Soft Skills\n",
    "    check_soft_skills(resume)\n",
    "\n",
    "# Example usage\n",
    "generate_resume_feedback(resume_text, jd, terms)\n"
   ]
  },
  {
   "cell_type": "code",
   "execution_count": null,
   "id": "6bce3643",
   "metadata": {},
   "outputs": [],
   "source": [
    "\n"
   ]
  }
 ],
 "metadata": {
  "kernelspec": {
   "display_name": "Python 3 (ipykernel)",
   "language": "python",
   "name": "python3"
  },
  "language_info": {
   "codemirror_mode": {
    "name": "ipython",
    "version": 3
   },
   "file_extension": ".py",
   "mimetype": "text/x-python",
   "name": "python",
   "nbconvert_exporter": "python",
   "pygments_lexer": "ipython3",
   "version": "3.10.9"
  }
 },
 "nbformat": 4,
 "nbformat_minor": 5
}
